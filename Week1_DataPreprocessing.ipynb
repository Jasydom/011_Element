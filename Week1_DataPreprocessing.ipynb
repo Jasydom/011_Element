{
  "nbformat": 4,
  "nbformat_minor": 0,
  "metadata": {
    "colab": {
      "provenance": []
    },
    "kernelspec": {
      "name": "python3",
      "display_name": "Python 3"
    },
    "language_info": {
      "name": "python"
    }
  },
  "cells": [
    {
      "cell_type": "markdown",
      "source": [
        "Adrien Montaigne 2248806"
      ],
      "metadata": {
        "id": "31FSqfIDhxpg"
      }
    },
    {
      "cell_type": "markdown",
      "source": [
        "** My data Preprocessing Programme **\n"
      ],
      "metadata": {
        "id": "ZRxePfaPW-TZ"
      }
    },
    {
      "cell_type": "markdown",
      "source": [
        "This prog is being created by XYZ, on 16 th Jan 2023\n",
        "\n"
      ],
      "metadata": {
        "id": "QLxVeEszXP_b"
      }
    },
    {
      "cell_type": "markdown",
      "source": [
        "Step 1 : Import Librairies"
      ],
      "metadata": {
        "id": "pVW6mLi_Xdm1"
      }
    },
    {
      "cell_type": "code",
      "source": [
        "import numpy as np\n",
        "import pandas as pd\n",
        "import matplotlib as plt\n"
      ],
      "metadata": {
        "id": "Ae2TgPN6YFZ0"
      },
      "execution_count": 1,
      "outputs": []
    },
    {
      "cell_type": "markdown",
      "source": [
        "Step 2 : import Data"
      ],
      "metadata": {
        "id": "ktxPNiMBZC98"
      }
    },
    {
      "cell_type": "code",
      "source": [
        "dataset = pd.read_csv(\"Data.csv\")\n",
        "X = dataset.iloc[:, :-1].values\n",
        "Y = dataset.iloc[:, -1].values\n",
        "print (X)"
      ],
      "metadata": {
        "colab": {
          "base_uri": "https://localhost:8080/"
        },
        "id": "IOX_ZwtAa96z",
        "outputId": "cb449094-742e-448f-e8b9-6db746b02f61"
      },
      "execution_count": 2,
      "outputs": [
        {
          "output_type": "stream",
          "name": "stdout",
          "text": [
            "[['France' 44.0 72000.0]\n",
            " ['Spain' 27.0 48000.0]\n",
            " ['Germany' 30.0 54000.0]\n",
            " ['Spain' 38.0 61000.0]\n",
            " ['Germany' 40.0 nan]\n",
            " ['France' 35.0 58000.0]\n",
            " ['Spain' nan 52000.0]\n",
            " ['France' 48.0 79000.0]\n",
            " ['Germany' 50.0 83000.0]\n",
            " ['France' 37.0 67000.0]]\n"
          ]
        }
      ]
    },
    {
      "cell_type": "markdown",
      "source": [
        "Step 3 : Deal with missing values"
      ],
      "metadata": {
        "id": "_uuWMK_tdit3"
      }
    },
    {
      "cell_type": "code",
      "source": [
        "#!pip install sklearn\n",
        "from sklearn.impute import SimpleImputer\n",
        "Imputer = SimpleImputer(missing_values = np.nan, strategy = 'mean')\n",
        "Imputer.fit(X[:, 1:3])\n",
        "X[:, 1:3] = Imputer.transform(X[:, 1:3]) \n",
        "\n",
        "print(X)"
      ],
      "metadata": {
        "colab": {
          "base_uri": "https://localhost:8080/"
        },
        "id": "WUHgEJJtdmNJ",
        "outputId": "a32e4045-fbb6-484e-cc24-ee5865549b1a"
      },
      "execution_count": 3,
      "outputs": [
        {
          "output_type": "stream",
          "name": "stdout",
          "text": [
            "[['France' 44.0 72000.0]\n",
            " ['Spain' 27.0 48000.0]\n",
            " ['Germany' 30.0 54000.0]\n",
            " ['Spain' 38.0 61000.0]\n",
            " ['Germany' 40.0 63777.77777777778]\n",
            " ['France' 35.0 58000.0]\n",
            " ['Spain' 38.77777777777778 52000.0]\n",
            " ['France' 48.0 79000.0]\n",
            " ['Germany' 50.0 83000.0]\n",
            " ['France' 37.0 67000.0]]\n"
          ]
        }
      ]
    },
    {
      "cell_type": "markdown",
      "source": [
        "Step 4 : Data Encoding"
      ],
      "metadata": {
        "id": "lrBstpD0gYlz"
      }
    },
    {
      "cell_type": "code",
      "source": [
        "from sklearn.compose import ColumnTransformer\n",
        "from sklearn.preprocessing import OneHotEncoder\n",
        "\n",
        "ct = ColumnTransformer(transformers = [(\"encoder\", OneHotEncoder(), [0])], remainder = \"passthrough\")\n",
        "X = ct.fit_transform(X)\n",
        "X = np.array(X)\n",
        "print(X)"
      ],
      "metadata": {
        "colab": {
          "base_uri": "https://localhost:8080/"
        },
        "id": "bT3aRvzvgdi9",
        "outputId": "2533acff-b04f-462b-8a63-650a99e51026"
      },
      "execution_count": 4,
      "outputs": [
        {
          "output_type": "stream",
          "name": "stdout",
          "text": [
            "[[1.0 0.0 0.0 44.0 72000.0]\n",
            " [0.0 0.0 1.0 27.0 48000.0]\n",
            " [0.0 1.0 0.0 30.0 54000.0]\n",
            " [0.0 0.0 1.0 38.0 61000.0]\n",
            " [0.0 1.0 0.0 40.0 63777.77777777778]\n",
            " [1.0 0.0 0.0 35.0 58000.0]\n",
            " [0.0 0.0 1.0 38.77777777777778 52000.0]\n",
            " [1.0 0.0 0.0 48.0 79000.0]\n",
            " [0.0 1.0 0.0 50.0 83000.0]\n",
            " [1.0 0.0 0.0 37.0 67000.0]]\n"
          ]
        }
      ]
    },
    {
      "cell_type": "code",
      "source": [
        "from sklearn.preprocessing import LabelEncoder\n",
        "le = LabelEncoder()\n",
        "Y = le.fit_transform(Y)\n",
        "print(Y)"
      ],
      "metadata": {
        "colab": {
          "base_uri": "https://localhost:8080/"
        },
        "id": "RCW56ZFVilgu",
        "outputId": "8a132a18-c6e2-4f16-c4e6-e46e8332cc8f"
      },
      "execution_count": 5,
      "outputs": [
        {
          "output_type": "stream",
          "name": "stdout",
          "text": [
            "[0 1 0 0 1 1 0 1 0 1]\n"
          ]
        }
      ]
    },
    {
      "cell_type": "markdown",
      "source": [
        "Step 5: Split it into Test and Train"
      ],
      "metadata": {
        "id": "CQxh3Tdzjmba"
      }
    },
    {
      "cell_type": "code",
      "source": [
        "from sklearn.model_selection import train_test_split\n",
        "X_train, X_test, Y_train, Y_test = train_test_split(X, Y, test_size = 0.2, random_state = 1)"
      ],
      "metadata": {
        "id": "coiDIpoXjq-B"
      },
      "execution_count": 6,
      "outputs": []
    },
    {
      "cell_type": "markdown",
      "source": [
        "Step 6: standardising data - Feature normalisation"
      ],
      "metadata": {
        "id": "4apCGV72kv54"
      }
    },
    {
      "cell_type": "code",
      "source": [
        "from sklearn.preprocessing import StandardScaler\n",
        "sc = StandardScaler()\n",
        "X_train[:, 3:] = sc.fit_transform(X_train[:, 3:])\n",
        "X_test[:, 3:] = sc.fit_transform(X_test[:, 3:])"
      ],
      "metadata": {
        "id": "NvM_exe3pJ6u"
      },
      "execution_count": 7,
      "outputs": []
    }
  ]
}